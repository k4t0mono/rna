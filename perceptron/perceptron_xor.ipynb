{
 "cells": [
  {
   "cell_type": "code",
   "execution_count": 0,
   "metadata": {
    "colab": {},
    "colab_type": "code",
    "id": "xO3dZKBl2S8J"
   },
   "outputs": [],
   "source": [
    "class Perceptron:\n",
    "    def __init__(self, input_size, lr=0.95, epochs=100, bias=1):\n",
    "        # Bias is the last entry\n",
    "        self.weights = [0] * (input_size + 1)\n",
    "        self.epochs = epochs\n",
    "        self.lr = lr\n",
    "        self.bias = bias\n",
    "    \n",
    "    # Binary activation function\n",
    "    def activation(self, x):\n",
    "        return 1 if x >= 0 else 0\n",
    "    \n",
    "    # Makes weighted sum of the inputs\n",
    "    def sum(self, x):\n",
    "        if len(x) != len(self.weights):\n",
    "            raise Exception(\n",
    "                \"Should have {} entries, got {}.\".format(\n",
    "                    len(self.weights) - 1, len(x) - 1\n",
    "                )\n",
    "            )\n",
    "        s = 0\n",
    "        for i in range(len(x)):\n",
    "            s += x[i] * self.weights[i]\n",
    "        \n",
    "        return s\n",
    "    \n",
    "    # Predict the class for the inputs\n",
    "    def predict(self, x):\n",
    "        s = self.sum(list(x) + [self.bias])\n",
    "        return self.activation(s)\n",
    "\n",
    "    # Runs the training process\n",
    "    def fit(self, x, y):\n",
    "        for _ in range(self.epochs):\n",
    "            for j in range(len(y)):\n",
    "                x_ = x[j]\n",
    "                y_ = self.predict(x_)\n",
    "                e = y[j] - y_\n",
    "                \n",
    "                for k in range(len(self.weights) - 1):\n",
    "                    self.weights[k] = self.weights[k] + self.lr * e * x_[k]\n",
    "                self.weights[-1] = self.weights[-1] + self.lr * e * self.bias"
   ]
  },
  {
   "cell_type": "code",
   "execution_count": 0,
   "metadata": {
    "colab": {
     "base_uri": "https://localhost:8080/",
     "height": 34
    },
    "colab_type": "code",
    "id": "Zbzb9-1c2pId",
    "outputId": "11ee8b33-8d5c-4bee-bd14-0b3b7b061ba0"
   },
   "outputs": [
    {
     "name": "stdout",
     "output_type": "stream",
     "text": [
      "p0.weights: [0.05, 0.05, -0.05]\n"
     ]
    }
   ],
   "source": [
    "# Perceptron OR, separa (0, 0) dos outros dados\n",
    "p0 = Perceptron(2, lr=0.05)\n",
    "\n",
    "entries_p0_x = [\n",
    "    (0, 0),\n",
    "    (1, 0),\n",
    "    (0, 1),\n",
    "    (1, 1),\n",
    "]\n",
    "entries_p0_y = (0, 1, 1, 1)\n",
    "\n",
    "p0.fit(entries_p0_x, entries_p0_y)\n",
    "print('p0.weights: {}'.format(p0.weights))"
   ]
  },
  {
   "cell_type": "code",
   "execution_count": 0,
   "metadata": {
    "colab": {
     "base_uri": "https://localhost:8080/",
     "height": 34
    },
    "colab_type": "code",
    "id": "F0BXrRpm3GCd",
    "outputId": "74c41430-30e2-4fcd-a120-abd5c46a6cc7"
   },
   "outputs": [
    {
     "name": "stdout",
     "output_type": "stream",
     "text": [
      "p1.weights: [-0.05, -0.1, 0.1]\n"
     ]
    }
   ],
   "source": [
    "# Perceptron NAND, separa (1, 1) dos outros dados\n",
    "p1 = Perceptron(2, lr=0.05)\n",
    "\n",
    "entries_p1_x = [\n",
    "    (0, 0),\n",
    "    (1, 0),\n",
    "    (0, 1),\n",
    "    (1, 1),\n",
    "]\n",
    "entries_p1_y = (1, 1, 1, 0)\n",
    "\n",
    "p1.fit(entries_p1_x, entries_p1_y)\n",
    "print('p1.weights: {}'.format(p1.weights))"
   ]
  },
  {
   "cell_type": "code",
   "execution_count": 0,
   "metadata": {
    "colab": {
     "base_uri": "https://localhost:8080/",
     "height": 34
    },
    "colab_type": "code",
    "id": "atwCGFHy3bzO",
    "outputId": "5398daf4-465c-4f3d-fecb-82724ca835fb"
   },
   "outputs": [
    {
     "name": "stdout",
     "output_type": "stream",
     "text": [
      "p2.weights: [0.05, 0.1, -0.10000000000000002]\n"
     ]
    }
   ],
   "source": [
    "# Perceptron AND\n",
    "p2 = Perceptron(2, lr=0.05)\n",
    "\n",
    "entries_p2_x = [\n",
    "    (0, 0),\n",
    "    (1, 0),\n",
    "    (0, 1),\n",
    "    (1, 1),\n",
    "]\n",
    "entries_p2_y = (0, 0, 0, 1)\n",
    "\n",
    "p2.fit(entries_p2_x, entries_p2_y)\n",
    "print('p2.weights: {}'.format(p2.weights))"
   ]
  },
  {
   "cell_type": "code",
   "execution_count": 0,
   "metadata": {
    "colab": {
     "base_uri": "https://localhost:8080/",
     "height": 225
    },
    "colab_type": "code",
    "id": "C2sFGIGc3gHP",
    "outputId": "62631a15-2d02-46c3-ecfc-11dac5e98166"
   },
   "outputs": [
    {
     "name": "stdout",
     "output_type": "stream",
     "text": [
      "x: (0, 0)\n",
      "r: 0\n",
      "\n",
      "x: (0, 1)\n",
      "r: 1\n",
      "\n",
      "x: (1, 0)\n",
      "r: 1\n",
      "\n",
      "x: (1, 1)\n",
      "r: 0\n",
      "\n"
     ]
    }
   ],
   "source": [
    "# Rede de perceptron multinível, as saídas de p0 e p1 são alimentas na entrada de p2\n",
    "# a XOR b <=> (a OR b) AND (a NAND b)\n",
    "for x in [ (0,0), (0,1), (1,0), (1,1) ]:\n",
    "    print('x: {}'.format(x))\n",
    "    \n",
    "    a = p0.predict(x)\n",
    "    b = p1.predict(x)\n",
    "    \n",
    "    r = p2.predict((a,b))\n",
    "    print('r: {}'.format(r))\n",
    "    print()"
   ]
  }
 ],
 "metadata": {
  "colab": {
   "collapsed_sections": [],
   "name": "perceptron_xor.ipynb",
   "provenance": [],
   "version": "0.3.2"
  },
  "kernelspec": {
   "display_name": "Python 3",
   "language": "python",
   "name": "python3"
  },
  "language_info": {
   "codemirror_mode": {
    "name": "ipython",
    "version": 3
   },
   "file_extension": ".py",
   "mimetype": "text/x-python",
   "name": "python",
   "nbconvert_exporter": "python",
   "pygments_lexer": "ipython3",
   "version": "3.7.3"
  }
 },
 "nbformat": 4,
 "nbformat_minor": 1
}
