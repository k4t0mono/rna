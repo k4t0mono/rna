{
 "cells": [
  {
   "cell_type": "markdown",
   "metadata": {},
   "source": [
    "# Perceptron Iris"
   ]
  },
  {
   "cell_type": "code",
   "execution_count": 1,
   "metadata": {},
   "outputs": [
    {
     "ename": "ModuleNotFoundError",
     "evalue": "No module named 'prettytable'",
     "output_type": "error",
     "traceback": [
      "\u001b[0;31m---------------------------------------------------------------------------\u001b[0m",
      "\u001b[0;31mModuleNotFoundError\u001b[0m                       Traceback (most recent call last)",
      "\u001b[0;32m<ipython-input-1-c9dc3a4b8310>\u001b[0m in \u001b[0;36m<module>\u001b[0;34m\u001b[0m\n\u001b[1;32m      2\u001b[0m \u001b[0;32mimport\u001b[0m \u001b[0mrandom\u001b[0m\u001b[0;34m\u001b[0m\u001b[0;34m\u001b[0m\u001b[0m\n\u001b[1;32m      3\u001b[0m \u001b[0;32mfrom\u001b[0m \u001b[0mpprint\u001b[0m \u001b[0;32mimport\u001b[0m \u001b[0mpprint\u001b[0m\u001b[0;34m\u001b[0m\u001b[0;34m\u001b[0m\u001b[0m\n\u001b[0;32m----> 4\u001b[0;31m \u001b[0;32mfrom\u001b[0m \u001b[0mprettytable\u001b[0m \u001b[0;32mimport\u001b[0m \u001b[0mPrettyTable\u001b[0m\u001b[0;34m\u001b[0m\u001b[0;34m\u001b[0m\u001b[0m\n\u001b[0m",
      "\u001b[0;31mModuleNotFoundError\u001b[0m: No module named 'prettytable'"
     ]
    }
   ],
   "source": [
    "import csv\n",
    "import random\n",
    "from pprint import pprint\n",
    "from prettytable import PrettyTable"
   ]
  },
  {
   "cell_type": "code",
   "execution_count": null,
   "metadata": {},
   "outputs": [],
   "source": [
    "class Perceptron:\n",
    "    def __init__(self, input_size, lr=0.95, epochs=100, bias=1):\n",
    "        # Bias is the last entry\n",
    "        self.weights = [0] * (input_size + 1)\n",
    "        self.epochs = epochs\n",
    "        self.lr = lr\n",
    "        self.bias = bias\n",
    "    \n",
    "    # Binary activation function\n",
    "    def activation(self, x):\n",
    "        return 1 if x >= 0 else 0\n",
    "    \n",
    "    # Makes weighted sum of the inputs\n",
    "    def sum(self, x):\n",
    "        if len(x) != len(self.weights):\n",
    "            raise Exception(\n",
    "                \"Should have {} entries, got {}.\".format(\n",
    "                    len(self.weights) - 1, len(x) - 1\n",
    "                )\n",
    "            )\n",
    "        s = 0\n",
    "        for i in range(len(x)):\n",
    "            s += x[i] * self.weights[i]\n",
    "        \n",
    "        return s\n",
    "    \n",
    "    # Predict the class for the inputs\n",
    "    def predict(self, x):\n",
    "        s = self.sum(list(x) + [self.bias])\n",
    "        return self.activation(s)\n",
    "\n",
    "    # Runs the training process\n",
    "    def fit(self, x, y):\n",
    "        for _ in range(self.epochs):\n",
    "            for j in range(len(y)):\n",
    "                x_ = x[j]\n",
    "                y_ = self.predict(x_)\n",
    "                e = y[j] - y_\n",
    "                \n",
    "                for k in range(len(self.weights) - 1):\n",
    "                    self.weights[k] = self.weights[k] + self.lr * e * x_[k]\n",
    "                self.weights[-1] = self.weights[-1] + self.lr * e * self.bias\n",
    "        "
   ]
  },
  {
   "cell_type": "code",
   "execution_count": null,
   "metadata": {},
   "outputs": [],
   "source": [
    "full_dataset = []\n",
    "\n",
    "# Import the dataset\n",
    "with open('./iris.txt') as fl:\n",
    "    reader = csv.reader(fl, delimiter=',')\n",
    "    for row in reader:\n",
    "        dt = [ float(x) for x in row[:-1] ]\n",
    "        cl = row[-1]\n",
    "        \n",
    "        full_dataset.append(dt + [cl])\n",
    "\n",
    "# choosing the two classes\n",
    "c0 = 'Iris-setosa'\n",
    "c1 = 'Iris-versicolor'\n",
    "\n",
    "# Getting the subset\n",
    "dataset = []\n",
    "for dt in full_dataset:\n",
    "    if dt[-1] == c0:\n",
    "        dt[-1] = 0\n",
    "    elif dt[-1] == c1:\n",
    "        dt[-1] = 1\n",
    "    else:\n",
    "        continue\n",
    "    \n",
    "    dataset.append(dt)\n",
    "\n",
    "# Make a 80% train and 20% test\n",
    "test_size = int(len(dataset) * 0.2)\n",
    "print('Test size: {}'.format(test_size))\n",
    "\n",
    "# Shuffle for good measure\n",
    "random.shuffle(dataset)\n",
    "\n",
    "# Spliting test and train sets\n",
    "test = dataset[:test_size]\n",
    "test_x = [ x[:-1] for x in test ]\n",
    "test_y = [ x[-1] for x in test ]\n",
    "\n",
    "train = dataset[test_size:]\n",
    "train_x = [ x[:-1] for x in train ]\n",
    "train_y = [ x[-1] for x in train ]"
   ]
  },
  {
   "cell_type": "code",
   "execution_count": null,
   "metadata": {},
   "outputs": [],
   "source": [
    "p = Perceptron(4, lr=0.05)\n",
    "\n",
    "p.fit(train_x, train_y)\n",
    "\n",
    "print(p.weights)"
   ]
  },
  {
   "cell_type": "code",
   "execution_count": null,
   "metadata": {},
   "outputs": [],
   "source": [
    "# cmatrix[pred][real]\n",
    "cmatrix = [\n",
    "    [0, 0],\n",
    "    [0, 0]\n",
    "]\n",
    "\n",
    "for i in range(test_size):\n",
    "    pred = p.predict(test_x[i])\n",
    "    cmatrix[pred][test_y[i]] += 1\n",
    "\n",
    "x = PrettyTable()\n",
    "x.field_names = [ '', 'real 0', 'real 1' ]\n",
    "x.add_row([ 'infer 0', cmatrix[0][0], cmatrix[1][0] ])\n",
    "x.add_row([ 'infer 1', cmatrix[0][1], cmatrix[1][1] ])\n",
    "\n",
    "print(x)"
   ]
  },
  {
   "cell_type": "code",
   "execution_count": null,
   "metadata": {},
   "outputs": [],
   "source": []
  }
 ],
 "metadata": {
  "kernelspec": {
   "display_name": "Python 3",
   "language": "python",
   "name": "python3"
  },
  "language_info": {
   "codemirror_mode": {
    "name": "ipython",
    "version": 3
   },
   "file_extension": ".py",
   "mimetype": "text/x-python",
   "name": "python",
   "nbconvert_exporter": "python",
   "pygments_lexer": "ipython3",
   "version": "3.7.3"
  }
 },
 "nbformat": 4,
 "nbformat_minor": 2
}
